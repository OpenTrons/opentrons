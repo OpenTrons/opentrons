{
 "cells": [
  {
   "cell_type": "code",
   "execution_count": null,
   "id": "b9e9a59f",
   "metadata": {},
   "outputs": [],
   "source": [
    "from hardware_testing.gravimetric.helpers import get_api_context\n",
    "from opentrons_shared_data.liquid_classes.liquid_class_definition import PositionReference\n",
    "from opentrons.protocol_api import InstrumentContext"
   ]
  },
  {
   "cell_type": "code",
   "execution_count": null,
   "id": "610b17bc",
   "metadata": {},
   "outputs": [],
   "source": [
    "# DEFINE SLOTS\n",
    "\n",
    "SLOTS = {\n",
    "    \"trash\": \"A3\",\n",
    "    \"t50\": \"B1\",\n",
    "    \"t200\": \"B2\",\n",
    "    \"t1000\": \"B3\",\n",
    "    \"water\": \"D1\",\n",
    "    \"glycerol_50\": \"D2\",\n",
    "    \"ethanol_80\": \"D3\",\n",
    "}"
   ]
  },
  {
   "cell_type": "code",
   "execution_count": null,
   "id": "e48ae57b",
   "metadata": {},
   "outputs": [],
   "source": [
    "# PROTOCOL CONTEXT (skip LPC offsets)\n",
    "\n",
    "ctx = get_api_context(include_labware_offsets=False)"
   ]
  },
  {
   "cell_type": "code",
   "execution_count": null,
   "id": "5287272d",
   "metadata": {},
   "outputs": [],
   "source": [
    "# SETUP LIQUIDS + VIALS\n",
    "\n",
    "ASSUMED_STARTING_VIAL_VOLUME = 1200\n",
    "LIQUID_NAMES = [\"water\", \"glycerol_50\", \"ethanol_80\"]\n",
    "\n",
    "LIQUIDS = {\n",
    "    n: {\n",
    "        \"class\": ctx.define_liquid_class(n),\n",
    "        \"label\": ctx.define_liquid(n),\n",
    "    }\n",
    "    for n in LIQUID_NAMES\n",
    "}\n",
    "VIALS = {\n",
    "    n: ctx.load_labware(\n",
    "        load_name=\"radwag_pipette_calibration_vial\",\n",
    "        location=SLOTS[n],\n",
    "        version=2\n",
    "    )[\"A1\"]  # NOTE: storing the Well (not the Labware)\n",
    "    for n in LIQUID_NAMES\n",
    "}\n",
    "for n in LIQUID_NAMES:\n",
    "    VIALS[n].load_liquid(LIQUIDS[n][\"label\"], ASSUMED_STARTING_VIAL_VOLUME)"
   ]
  },
  {
   "cell_type": "code",
   "execution_count": null,
   "id": "055ae5a8",
   "metadata": {},
   "outputs": [],
   "source": [
    "# SETUP TIPS\n",
    "\n",
    "STARTING_TIP = \"A1\"\n",
    "\n",
    "TIP_RACKS = {\n",
    "    tip: ctx.load_labware(\n",
    "        load_name=f\"opentrons_flex_96_tiprack_{tip}ul\",\n",
    "        location=SLOTS[f\"t{tip}\"]\n",
    "    )\n",
    "    for tip in [50, 200, 1000]\n",
    "}\n",
    "ctx.load_trash_bin(SLOTS[\"trash\"])"
   ]
  },
  {
   "cell_type": "code",
   "execution_count": null,
   "id": "8683a7a2",
   "metadata": {},
   "outputs": [],
   "source": [
    "# SETUP PIPETTES\n",
    "\n",
    "PIPETTES = {\n",
    "    50: ctx.load_instrument(\n",
    "        instrument_name=\"flex_1channel_50\",\n",
    "        mount=\"left\",\n",
    "    ),\n",
    "    1000: ctx.load_instrument(\n",
    "        instrument_name=\"flex_1channel_1000\",\n",
    "        mount=\"right\",\n",
    "    ),\n",
    "}"
   ]
  },
  {
   "cell_type": "code",
   "execution_count": null,
   "id": "e80f7582",
   "metadata": {},
   "outputs": [],
   "source": [
    "# SETUP TRIAL SEQUENCE\n",
    "\n",
    "VOLUMES = {\n",
    "    50: {\n",
    "        50: [1, 10, 50],\n",
    "    },\n",
    "    1000: {\n",
    "        50: [5, 10, 50],\n",
    "        200: [5, 50, 200],\n",
    "        1000: [10, 100, 1000],\n",
    "    }\n",
    "}\n",
    "\n",
    "\n",
    "def _transfer_liquid_qc_volumes(liquid_name: str, pipette: int, tip: int) -> None:\n",
    "    _pip = PIPETTES[pipette]\n",
    "    _vial = VIALS[liquid_name]\n",
    "    if _vial.current_liquid_volume() == ASSUMED_STARTING_VIAL_VOLUME:\n",
    "        _pip.liquid_presence_detection = _vol_is_at_default\n",
    "    volumes = VOLUMES[pipette][tip]\n",
    "    _pip.tip_racks = [TIP_RACKS[tip]]\n",
    "    for v in volumes:\n",
    "        _pip.transfer_liquid(\n",
    "            liquid_class=LIQUIDS[liquid_name][\"class\"],\n",
    "            volume=v,\n",
    "            source=_vial,\n",
    "            dest=_vial,\n",
    "            new_tip=\"once\"\n",
    "        )\n",
    "        _pip.liquid_presence_detection = False  # always disable LLD\n"
   ]
  },
  {
   "cell_type": "code",
   "execution_count": null,
   "id": "a84d1ded",
   "metadata": {},
   "outputs": [],
   "source": []
  },
  {
   "cell_type": "code",
   "execution_count": null,
   "id": "853c513d",
   "metadata": {},
   "outputs": [],
   "source": []
  },
  {
   "cell_type": "code",
   "execution_count": null,
   "id": "e6f8bda1",
   "metadata": {},
   "outputs": [],
   "source": [
    "raise RuntimeError(\"don't get careless and hit Run All\")"
   ]
  },
  {
   "cell_type": "code",
   "execution_count": null,
   "id": "998ead4b",
   "metadata": {},
   "outputs": [],
   "source": []
  },
  {
   "cell_type": "code",
   "execution_count": null,
   "id": "c4cf154a",
   "metadata": {},
   "outputs": [],
   "source": []
  },
  {
   "cell_type": "code",
   "execution_count": null,
   "id": "8366074d",
   "metadata": {},
   "outputs": [],
   "source": [
    "# HOME (optional)\n",
    "\n",
    "ctx.home()"
   ]
  },
  {
   "cell_type": "code",
   "execution_count": null,
   "id": "1ebb40b4",
   "metadata": {},
   "outputs": [],
   "source": [
    "# RETRACT PIPETTES\n",
    "\n",
    "PIPETTES[50]._retract()\n",
    "PIPETTES[1000]._retract()"
   ]
  },
  {
   "cell_type": "code",
   "execution_count": null,
   "id": "74b7747a",
   "metadata": {},
   "outputs": [],
   "source": [
    "# PICKUP TIP + PROBE LIQUID\n",
    "\n",
    "_probing_pip = PIPETTES[50]  # NOTE: P50 is most accurate\n",
    "for n in LIQUID_NAMES:\n",
    "    _probing_pip.pick_up_tip()\n",
    "    _probing_pip.detect_liquid_presence(VIALS[n])\n",
    "    _probing_pip.drop_tip()"
   ]
  },
  {
   "cell_type": "code",
   "execution_count": null,
   "id": "a7d4da54",
   "metadata": {},
   "outputs": [],
   "source": [
    "# P50 + T50"
   ]
  },
  {
   "cell_type": "code",
   "execution_count": null,
   "id": "9a8b38e4",
   "metadata": {},
   "outputs": [],
   "source": [
    "_transfer_liquid_qc_volumes(\"water\", pipette=50, tip=50)"
   ]
  },
  {
   "cell_type": "code",
   "execution_count": null,
   "id": "fa33151e",
   "metadata": {},
   "outputs": [],
   "source": [
    "_transfer_liquid_qc_volumes(\"glycerol_50\", pipette=50, tip=50)"
   ]
  },
  {
   "cell_type": "code",
   "execution_count": null,
   "id": "37ffc18b",
   "metadata": {},
   "outputs": [],
   "source": [
    "_transfer_liquid_qc_volumes(\"ethanol_80\", pipette=50, tip=50)"
   ]
  },
  {
   "cell_type": "code",
   "execution_count": null,
   "id": "7517bed2",
   "metadata": {},
   "outputs": [],
   "source": [
    "# P1000 + T50"
   ]
  },
  {
   "cell_type": "code",
   "execution_count": null,
   "id": "6944034a",
   "metadata": {},
   "outputs": [],
   "source": [
    "_transfer_liquid_qc_volumes(\"water\", pipette=1000, tip=50)"
   ]
  },
  {
   "cell_type": "code",
   "execution_count": null,
   "id": "3d6e0baa",
   "metadata": {},
   "outputs": [],
   "source": [
    "_transfer_liquid_qc_volumes(\"glycerol_50\", pipette=1000, tip=50)"
   ]
  },
  {
   "cell_type": "code",
   "execution_count": null,
   "id": "69aeea54",
   "metadata": {},
   "outputs": [],
   "source": [
    "_transfer_liquid_qc_volumes(\"ethanol_80\", pipette=1000, tip=50)"
   ]
  },
  {
   "cell_type": "code",
   "execution_count": null,
   "id": "570ce28b",
   "metadata": {},
   "outputs": [],
   "source": [
    "# P1000 + T200"
   ]
  },
  {
   "cell_type": "code",
   "execution_count": null,
   "id": "2189444a",
   "metadata": {},
   "outputs": [],
   "source": [
    "_transfer_liquid_qc_volumes(\"water\", pipette=1000, tip=200)"
   ]
  },
  {
   "cell_type": "code",
   "execution_count": null,
   "id": "1291dd48",
   "metadata": {},
   "outputs": [],
   "source": [
    "_transfer_liquid_qc_volumes(\"glycerol_50\", pipette=1000, tip=200)"
   ]
  },
  {
   "cell_type": "code",
   "execution_count": null,
   "id": "5ad4fbfa",
   "metadata": {},
   "outputs": [],
   "source": [
    "_transfer_liquid_qc_volumes(\"ethanol_80\", pipette=1000, tip=200)"
   ]
  },
  {
   "cell_type": "code",
   "execution_count": null,
   "id": "97ac2c61",
   "metadata": {},
   "outputs": [],
   "source": [
    "# P1000 + T1000"
   ]
  },
  {
   "cell_type": "code",
   "execution_count": null,
   "id": "4d2fac51",
   "metadata": {},
   "outputs": [],
   "source": [
    "_transfer_liquid_qc_volumes(\"water\", pipette=1000, tip=1000)"
   ]
  },
  {
   "cell_type": "code",
   "execution_count": null,
   "id": "bf84f4db",
   "metadata": {},
   "outputs": [],
   "source": [
    "_transfer_liquid_qc_volumes(\"glycerol_50\", pipette=1000, tip=1000)"
   ]
  },
  {
   "cell_type": "code",
   "execution_count": null,
   "id": "5701274a",
   "metadata": {},
   "outputs": [],
   "source": [
    "_transfer_liquid_qc_volumes(\"ethanol_80\", pipette=1000, tip=1000)"
   ]
  }
 ],
 "metadata": {
  "kernelspec": {
   "display_name": "Python 3 (ipykernel)",
   "language": "python",
   "name": "python3"
  },
  "language_info": {
   "codemirror_mode": {
    "name": "ipython",
    "version": 3
   },
   "file_extension": ".py",
   "mimetype": "text/x-python",
   "name": "python",
   "nbconvert_exporter": "python",
   "pygments_lexer": "ipython3",
   "version": "3.10.9"
  }
 },
 "nbformat": 4,
 "nbformat_minor": 5
}
